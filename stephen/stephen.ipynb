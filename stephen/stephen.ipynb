{
 "cells": [
  {
   "cell_type": "code",
   "execution_count": 2,
   "id": "simplified-intention",
   "metadata": {},
   "outputs": [
    {
     "ename": "SyntaxError",
     "evalue": "invalid syntax (<ipython-input-2-b9b1f7efed5d>, line 15)",
     "output_type": "error",
     "traceback": [
      "\u001b[1;36m  File \u001b[1;32m\"<ipython-input-2-b9b1f7efed5d>\"\u001b[1;36m, line \u001b[1;32m15\u001b[0m\n\u001b[1;33m    book_title = soup.select('id',class ='gr-h1 gr-h1--serif')[0].text.strip()\u001b[0m\n\u001b[1;37m                                  ^\u001b[0m\n\u001b[1;31mSyntaxError\u001b[0m\u001b[1;31m:\u001b[0m invalid syntax\n"
     ]
    }
   ],
   "source": [
    "import time\n",
    "from bs4 import BeautifulSoup\n",
    "from selenium import webdriver\n",
    "##copy chromedriver into python folder\n",
    "driver = webdriver.Chrome()\n",
    "#driver.set_window_position(-2000,0)#this function will minimize the window\n",
    "first_url = 1\n",
    "last_url = 10000     # Last book is 8,630,000\n",
    "\n",
    "for book_reference_number in range(first_url, last_url):\n",
    "    driver.get(\"https://www.goodreads.com/book/show/\"+str(book_reference_number))\n",
    "    #time.sleep(2)#optional\n",
    "    soup = BeautifulSoup(driver.page_source, 'lxml')\n",
    "    try:\n",
    "        book_title = soup.select('.gr-h1.gr-h1--serif')[0].text.strip()\n",
    "    except:\n",
    "        book_title = ''\n",
    "    try:\n",
    "        author_name = soup.select('.authorName')[0].text.strip()\n",
    "    except:\n",
    "        author_name = ''\n",
    "\n",
    "    print('NO.', book_reference_number, 'TITLE: ', book_title, 'AUTHOR: ', author_name)"
   ]
  },
  {
   "cell_type": "code",
   "execution_count": null,
   "id": "prescription-asset",
   "metadata": {},
   "outputs": [],
   "source": []
  }
 ],
 "metadata": {
  "kernelspec": {
   "display_name": "Python 3",
   "language": "python",
   "name": "python3"
  },
  "language_info": {
   "codemirror_mode": {
    "name": "ipython",
    "version": 3
   },
   "file_extension": ".py",
   "mimetype": "text/x-python",
   "name": "python",
   "nbconvert_exporter": "python",
   "pygments_lexer": "ipython3",
   "version": "3.8.8"
  }
 },
 "nbformat": 4,
 "nbformat_minor": 5
}

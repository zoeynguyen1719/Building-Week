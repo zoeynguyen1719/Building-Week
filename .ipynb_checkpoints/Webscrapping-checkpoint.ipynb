{
 "cells": [
  {
   "cell_type": "code",
   "execution_count": 72,
   "id": "fundamental-environment",
   "metadata": {},
   "outputs": [],
   "source": [
    "import requests\n",
    "from bs4 import BeautifulSoup\n",
    "import numpy as np\n",
    "import pandas as pd"
   ]
  },
  {
   "cell_type": "code",
   "execution_count": 69,
   "id": "desperate-communication",
   "metadata": {},
   "outputs": [
    {
     "ename": "NameError",
     "evalue": "name 'rq' is not defined",
     "output_type": "error",
     "traceback": [
      "\u001b[0;31m---------------------------------------------------------------------------\u001b[0m",
      "\u001b[0;31mNameError\u001b[0m                                 Traceback (most recent call last)",
      "\u001b[0;32m<ipython-input-69-7bd4e9d47a3d>\u001b[0m in \u001b[0;36m<module>\u001b[0;34m\u001b[0m\n\u001b[1;32m      1\u001b[0m \u001b[0;32mfor\u001b[0m \u001b[0mpage_number\u001b[0m \u001b[0;32min\u001b[0m \u001b[0mrange\u001b[0m\u001b[0;34m(\u001b[0m\u001b[0;36m1\u001b[0m\u001b[0;34m,\u001b[0m\u001b[0;36m11\u001b[0m\u001b[0;34m)\u001b[0m\u001b[0;34m:\u001b[0m\u001b[0;34m\u001b[0m\u001b[0;34m\u001b[0m\u001b[0m\n\u001b[0;32m----> 2\u001b[0;31m     \u001b[0murl\u001b[0m \u001b[0;34m=\u001b[0m \u001b[0mrq\u001b[0m\u001b[0;34m.\u001b[0m\u001b[0mget\u001b[0m\u001b[0;34m(\u001b[0m\u001b[0;34m\"https://www.goodreads.com/list/show/6.Best_Books_of_the_20th_Century?page=1\"\u001b[0m\u001b[0;34m)\u001b[0m\u001b[0;34m\u001b[0m\u001b[0;34m\u001b[0m\u001b[0m\n\u001b[0m\u001b[1;32m      3\u001b[0m     \u001b[0msoup\u001b[0m \u001b[0;34m=\u001b[0m \u001b[0mBeautifulSoup\u001b[0m\u001b[0;34m(\u001b[0m\u001b[0murl\u001b[0m\u001b[0;34m.\u001b[0m\u001b[0mcontent\u001b[0m\u001b[0;34m,\u001b[0m \u001b[0;34m'html.parser'\u001b[0m\u001b[0;34m)\u001b[0m\u001b[0;34m\u001b[0m\u001b[0;34m\u001b[0m\u001b[0m\n\u001b[1;32m      4\u001b[0m     \u001b[0mhref_link_list\u001b[0m \u001b[0;34m=\u001b[0m\u001b[0;34m[\u001b[0m\u001b[0;34m]\u001b[0m\u001b[0;34m\u001b[0m\u001b[0;34m\u001b[0m\u001b[0m\n\u001b[1;32m      5\u001b[0m     \u001b[0;32mfor\u001b[0m \u001b[0mlink\u001b[0m \u001b[0;32min\u001b[0m \u001b[0msoup\u001b[0m\u001b[0;34m.\u001b[0m\u001b[0mfind_all\u001b[0m\u001b[0;34m(\u001b[0m\u001b[0;34m'a'\u001b[0m\u001b[0;34m,\u001b[0m \u001b[0mclass_\u001b[0m\u001b[0;34m=\u001b[0m\u001b[0;34m'bookTitle'\u001b[0m\u001b[0;34m)\u001b[0m \u001b[0;34m:\u001b[0m\u001b[0;34m\u001b[0m\u001b[0;34m\u001b[0m\u001b[0m\n",
      "\u001b[0;31mNameError\u001b[0m: name 'rq' is not defined"
     ]
    }
   ],
   "source": [
    "for page_number in range(1,11):\n",
    "    url = requests.get(\"https://www.goodreads.com/list/show/6.Best_Books_of_the_20th_Century?page=\"+str(page_number))\n",
    "    soup = BeautifulSoup(url.content, 'html.parser')\n",
    "    href_link_list =[]\n",
    "    for link in soup.find_all('a', class_='bookTitle') :\n",
    "        if link.has_attr('href'):\n",
    "            href_link_list.append(link.attrs['href'])\n",
    "    \n",
    "    for index, url in enumerate(href_link_list):\n",
    "        url2 = requests.get(\"https://www.goodreads.com\" + str(url))\n",
    "        soup_detail = BeautifulSoup(url2.content, 'html.parser')"
   ]
  },
  {
   "cell_type": "code",
   "execution_count": 67,
   "id": "moral-member",
   "metadata": {},
   "outputs": [
    {
     "name": "stdout",
     "output_type": "stream",
     "text": [
      "/book/show/2657.To_Kill_a_Mockingbird\n",
      "https://www.goodreads.com/book/show/2657.To_Kill_a_Mockingbird\n"
     ]
    }
   ],
   "source": [
    "print(str(href_link_list[0]))\n",
    "print('https://www.goodreads.com/book/show/2657.To_Kill_a_Mockingbird')\n",
    "print"
   ]
  },
  {
   "cell_type": "code",
   "execution_count": 73,
   "id": "patient-prediction",
   "metadata": {},
   "outputs": [],
   "source": [
    "url_list = requests.get(\"https://www.goodreads.com/list/show/6.Best_Books_of_the_20th_Century?page=1\")\n",
    "soup = BeautifulSoup(url_list.content, 'html.parser')\n",
    "href_link_list =[]\n",
    "for link in soup.find_all('a', class_='bookTitle') :\n",
    "    if link.has_attr('href'):\n",
    "        href_link_list.append(link.attrs['href'])\n",
    "    \n",
    "url_detail = requests.get(\"https://www.goodreads.com\" + str(href_link_list[0]))\n",
    "soup_detail = BeautifulSoup(url_detail.content, 'html.parser')"
   ]
  },
  {
   "cell_type": "code",
   "execution_count": null,
   "id": "modern-brush",
   "metadata": {},
   "outputs": [],
   "source": [
    "\n",
    "url = requests.get(\"https://www.goodreads.com/list/show/6.Best_Books_of_the_20th_Century?page=1\")\n",
    "soup = BeautifulSoup(url.content, 'html.parser')\n",
    "\n",
    "href_link_list =[]\n",
    "book_author = []\n",
    "book_title = []\n",
    "book_review = []\n",
    "book_rating = []\n",
    "book_avgrating = []\n",
    "book_pages = []\n",
    "book_publish_year = []\n",
    "book_series = []\n",
    "book_genres = []\n",
    "book_awards = []\n",
    "book_places = []\n",
    "\n",
    "for link in soup.find_all('a', class_='bookTitle') :\n",
    "    if link.has_attr('href'):\n",
    "        href_link_list.append(link.attrs['href'])\n",
    "\n",
    "for path in href_link_list:\n",
    "    url2 = requests.get(\"https://www.goodreads.com\" + path)\n",
    "    soup_detail = BeautifulSoup(url2.content, 'html.parser')\n",
    "       #Extract Author particulars\n",
    "    author_divs = soup_detail.find_all(\"div\", {\"class\":\"authorName__container\"})\n",
    "    author_text = author_divs[0].find_all('a')[0].text\n",
    "    book_author.append(author_text)\n",
    "    book_author"
   ]
  }
 ],
 "metadata": {
  "kernelspec": {
   "display_name": "Python 3",
   "language": "python",
   "name": "python3"
  },
  "language_info": {
   "codemirror_mode": {
    "name": "ipython",
    "version": 3
   },
   "file_extension": ".py",
   "mimetype": "text/x-python",
   "name": "python",
   "nbconvert_exporter": "python",
   "pygments_lexer": "ipython3",
   "version": "3.8.8"
  }
 },
 "nbformat": 4,
 "nbformat_minor": 5
}

{
 "cells": [
  {
   "cell_type": "code",
   "execution_count": 35,
   "id": "express-drive",
   "metadata": {},
   "outputs": [],
   "source": [
    "\n",
    "import numpy as numpy\n",
    "import pandas as pandas\n",
    "from bs4 import BeautifulSoup\n",
    "import re\n",
    "from urllib.parse import urljoin\n",
    "import requests\n",
    "from time import sleep\n"
   ]
  },
  {
   "cell_type": "code",
   "execution_count": 36,
   "id": "attached-biotechnology",
   "metadata": {},
   "outputs": [],
   "source": [
    "base_site = \"https://www.goodreads.com/list/show/6.Best_Books_of_the_20th_Century\" \n"
   ]
  },
  {
   "cell_type": "code",
   "execution_count": 33,
   "id": "designed-nevada",
   "metadata": {},
   "outputs": [],
   "source": [
    "divs = soup.find_all(\"div\", {\"class\": \"mainContent \"})\n",
    "links = [div.find('a') for div in divs]\n",
    "relative_url = [link['href'] for link in links]  \n",
    "full_url = [urljoin(base_site, relativeurl) for relativeurl in relative_url]\n",
    "book_url = [url for url in full_url if \"https://www.goodreads.com/book/show/2657.To_Kill_a_Mockingbird\" in url]"
   ]
  },
  {
   "cell_type": "code",
   "execution_count": 34,
   "id": "based-breathing",
   "metadata": {},
   "outputs": [],
   "source": [
    "book_author = []\n",
    "book_title = []\n",
    "book_review = []\n",
    "book_rating = []\n",
    "book_avgrating = []\n",
    "book_pages = []\n",
    "book_publish_year = []\n",
    "book_series = []\n",
    "book_genres = []\n",
    "book_awards = []\n",
    "book_places = []\n"
   ]
  },
  {
   "cell_type": "code",
   "execution_count": null,
   "id": "applicable-senegal",
   "metadata": {},
   "outputs": [],
   "source": []
  }
 ],
 "metadata": {
  "kernelspec": {
   "display_name": "Python 3",
   "language": "python",
   "name": "python3"
  },
  "language_info": {
   "codemirror_mode": {
    "name": "ipython",
    "version": 3
   },
   "file_extension": ".py",
   "mimetype": "text/x-python",
   "name": "python",
   "nbconvert_exporter": "python",
   "pygments_lexer": "ipython3",
   "version": "3.8.8"
  }
 },
 "nbformat": 4,
 "nbformat_minor": 5
}
